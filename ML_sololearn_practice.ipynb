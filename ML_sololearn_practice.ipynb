{
  "nbformat": 4,
  "nbformat_minor": 0,
  "metadata": {
    "colab": {
      "name": "ML sololearn practice.ipynb",
      "provenance": [],
      "authorship_tag": "ABX9TyM9wQdrh5l+v7j7GR/BZBOK",
      "include_colab_link": true
    },
    "kernelspec": {
      "name": "python3",
      "display_name": "Python 3"
    }
  },
  "cells": [
    {
      "cell_type": "markdown",
      "metadata": {
        "id": "view-in-github",
        "colab_type": "text"
      },
      "source": [
        "<a href=\"https://colab.research.google.com/github/mandalarotation/PixdosepiX-OpenKBP---2020-AAPM-Grand-Challenge-/blob/master/ML_sololearn_practice.ipynb\" target=\"_parent\"><img src=\"https://colab.research.google.com/assets/colab-badge.svg\" alt=\"Open In Colab\"/></a>"
      ]
    },
    {
      "cell_type": "code",
      "metadata": {
        "id": "3p8ZuePFSZkL"
      },
      "source": [
        "import pandas as pd\r\n",
        "import sklearn \r\n",
        "import numpy as np\r\n",
        "import matplotlib.pyplot as plt\r\n"
      ],
      "execution_count": 40,
      "outputs": []
    },
    {
      "cell_type": "code",
      "metadata": {
        "id": "_rt1zJ5jX_nC"
      },
      "source": [
        "from sklearn.linear_model import LogisticRegression\r\n",
        "from sklearn.metrics import accuracy_score, precision_score, recall_score, f1_score, confusion_matrix, roc_curve, roc_auc_score\r\n",
        "from sklearn.model_selection import train_test_split"
      ],
      "execution_count": 44,
      "outputs": []
    },
    {
      "cell_type": "code",
      "metadata": {
        "id": "rBWZmTALWh-8"
      },
      "source": [
        "df = pd.read_csv(\"https://sololearn.com/uploads/files/titanic.csv\")"
      ],
      "execution_count": 9,
      "outputs": []
    },
    {
      "cell_type": "code",
      "metadata": {
        "colab": {
          "base_uri": "https://localhost:8080/"
        },
        "id": "SNmWFkANW_SF",
        "outputId": "8b1d7411-7cbe-4288-8d4e-d0aa3bf23a92"
      },
      "source": [
        "df[\"male\"] = df[\"Sex\"] == \"male\"\r\n",
        "X = df[[\"Pclass\", \"male\", \"Age\", \"Siblings/Spouses\", \"Parents/Children\", \"Fare\"]].values\r\n",
        "y = df[\"Survived\"].values\r\n",
        "X_train, X_test, y_train, y_test = train_test_split(X,y, random_state = 5) #Apply a random state (seed) attribute to get the same split\r\n",
        "print(\"whole dataset: \", X.shape, y.shape)\r\n",
        "print(\"training set: \", X_train.shape, y_train.shape)\r\n",
        "print(\"test set: \", X_test.shape, y_test.shape)\r\n",
        "\r\n"
      ],
      "execution_count": 32,
      "outputs": [
        {
          "output_type": "stream",
          "text": [
            "whole dataset:  (887, 6) (887,)\n",
            "training set:  (665, 6) (665,)\n",
            "test set:  (222, 6) (222,)\n"
          ],
          "name": "stdout"
        }
      ]
    },
    {
      "cell_type": "code",
      "metadata": {
        "id": "b5inwfZgd3rA"
      },
      "source": [
        "model = LogisticRegression()\r\n",
        "model.fit(X,y)\r\n",
        "y_pred = model.predict(X)"
      ],
      "execution_count": null,
      "outputs": []
    },
    {
      "cell_type": "code",
      "metadata": {
        "colab": {
          "base_uri": "https://localhost:8080/"
        },
        "id": "JhdwjfyUXrTl",
        "outputId": "bfd36f8e-a699-442a-e3f1-21a2870019e6"
      },
      "source": [
        "print(\"accuracy: \", accuracy_score(y, y_pred))\r\n",
        "print(\"precision: \", precision_score(y, y_pred))\r\n",
        "print(\"recall: \", recall_score(y, y_pred))\r\n",
        "print(\"f1 score: \", f1_score(y, y_pred))"
      ],
      "execution_count": 11,
      "outputs": [
        {
          "output_type": "stream",
          "text": [
            "accuracy:  0.8049605411499436\n",
            "precision:  0.7734627831715211\n",
            "recall:  0.6988304093567251\n",
            "f1 score:  0.7342549923195083\n"
          ],
          "name": "stdout"
        }
      ]
    },
    {
      "cell_type": "code",
      "metadata": {
        "colab": {
          "base_uri": "https://localhost:8080/"
        },
        "id": "Jn8GGalpY3dl",
        "outputId": "dace8b16-efc8-45ad-bbae-709cc8120519"
      },
      "source": [
        "print(confusion_matrix(y, y_pred))"
      ],
      "execution_count": 13,
      "outputs": [
        {
          "output_type": "stream",
          "text": [
            "[[475  70]\n",
            " [103 239]]\n"
          ],
          "name": "stdout"
        }
      ]
    },
    {
      "cell_type": "code",
      "metadata": {
        "colab": {
          "base_uri": "https://localhost:8080/"
        },
        "id": "kqQ1JtESZlXF",
        "outputId": "8fb58676-7037-4fc6-dfa8-7ce1b688b391"
      },
      "source": [
        "model = LogisticRegression()\r\n",
        "model.fit(X_train, y_train)\r\n",
        "y_pred2 = model.predict(X_test)\r\n",
        "print(model.score(X_test, y_test))\r\n"
      ],
      "execution_count": 21,
      "outputs": [
        {
          "output_type": "stream",
          "text": [
            "0.7837837837837838\n"
          ],
          "name": "stdout"
        }
      ]
    },
    {
      "cell_type": "code",
      "metadata": {
        "colab": {
          "base_uri": "https://localhost:8080/"
        },
        "id": "a4jEqhfdaOQh",
        "outputId": "5e1dad88-a3d9-468a-f163-f2b032c5fa7f"
      },
      "source": [
        "print(\"accuracy: \", accuracy_score(y_test, y_pred2))\r\n",
        "print(\"precision: \", precision_score(y_test, y_pred2))\r\n",
        "print(\"recall: \", recall_score(y_test, y_pred2))\r\n",
        "print(\"f1 score: \", f1_score(y_test, y_pred2))"
      ],
      "execution_count": 22,
      "outputs": [
        {
          "output_type": "stream",
          "text": [
            "accuracy:  0.7837837837837838\n",
            "precision:  0.7702702702702703\n",
            "recall:  0.6477272727272727\n",
            "f1 score:  0.7037037037037036\n"
          ],
          "name": "stdout"
        }
      ]
    },
    {
      "cell_type": "code",
      "metadata": {
        "colab": {
          "base_uri": "https://localhost:8080/"
        },
        "id": "is3-jeWugJBJ",
        "outputId": "416b7872-aaff-4531-aa38-80d2ce7b3d2e"
      },
      "source": [
        "sensitivity_score = recall_score\r\n",
        "from sklearn.metrics import precision_recall_fscore_support\r\n",
        "print(\"Sensitivity: \", sensitivity_score(y_test, y_pred2))\r\n",
        "print(precision_recall_fscore_support(y_test, y_pred2)[1])"
      ],
      "execution_count": 31,
      "outputs": [
        {
          "output_type": "stream",
          "text": [
            "Sensitivity:  0.6477272727272727\n",
            "[0.87313433 0.64772727]\n"
          ],
          "name": "stdout"
        }
      ]
    },
    {
      "cell_type": "code",
      "metadata": {
        "colab": {
          "base_uri": "https://localhost:8080/"
        },
        "id": "_dVYZ8CgrqcH",
        "outputId": "be3210af-c5b9-40cd-e4b9-6f061be6b0c6"
      },
      "source": [
        "y_pred_proba = model.predict_proba(X_test)\r\n",
        "y_pred3 = y_pred_proba > 0.75\r\n",
        "y_pred3"
      ],
      "execution_count": 42,
      "outputs": [
        {
          "output_type": "execute_result",
          "data": {
            "text/plain": [
              "array([[False, False],\n",
              "       [ True, False],\n",
              "       [False,  True],\n",
              "       [False, False],\n",
              "       [False, False],\n",
              "       [ True, False],\n",
              "       [ True, False],\n",
              "       [False,  True],\n",
              "       [False,  True],\n",
              "       [False, False],\n",
              "       [ True, False],\n",
              "       [ True, False],\n",
              "       [False,  True],\n",
              "       [ True, False],\n",
              "       [False, False],\n",
              "       [ True, False],\n",
              "       [False,  True],\n",
              "       [False, False],\n",
              "       [False,  True],\n",
              "       [ True, False],\n",
              "       [False, False],\n",
              "       [ True, False],\n",
              "       [ True, False],\n",
              "       [ True, False],\n",
              "       [ True, False],\n",
              "       [False,  True],\n",
              "       [ True, False],\n",
              "       [ True, False],\n",
              "       [False, False],\n",
              "       [False, False],\n",
              "       [ True, False],\n",
              "       [False,  True],\n",
              "       [False, False],\n",
              "       [ True, False],\n",
              "       [ True, False],\n",
              "       [ True, False],\n",
              "       [False,  True],\n",
              "       [False, False],\n",
              "       [False, False],\n",
              "       [ True, False],\n",
              "       [False,  True],\n",
              "       [ True, False],\n",
              "       [False, False],\n",
              "       [False, False],\n",
              "       [False, False],\n",
              "       [ True, False],\n",
              "       [False, False],\n",
              "       [ True, False],\n",
              "       [ True, False],\n",
              "       [False, False],\n",
              "       [ True, False],\n",
              "       [ True, False],\n",
              "       [False, False],\n",
              "       [False, False],\n",
              "       [ True, False],\n",
              "       [False, False],\n",
              "       [False,  True],\n",
              "       [False,  True],\n",
              "       [ True, False],\n",
              "       [False, False],\n",
              "       [ True, False],\n",
              "       [False,  True],\n",
              "       [ True, False],\n",
              "       [ True, False],\n",
              "       [ True, False],\n",
              "       [ True, False],\n",
              "       [ True, False],\n",
              "       [False, False],\n",
              "       [False, False],\n",
              "       [False, False],\n",
              "       [False, False],\n",
              "       [ True, False],\n",
              "       [False,  True],\n",
              "       [False, False],\n",
              "       [False, False],\n",
              "       [False,  True],\n",
              "       [False,  True],\n",
              "       [ True, False],\n",
              "       [ True, False],\n",
              "       [False, False],\n",
              "       [ True, False],\n",
              "       [ True, False],\n",
              "       [False, False],\n",
              "       [ True, False],\n",
              "       [False, False],\n",
              "       [ True, False],\n",
              "       [False, False],\n",
              "       [ True, False],\n",
              "       [False, False],\n",
              "       [ True, False],\n",
              "       [ True, False],\n",
              "       [False, False],\n",
              "       [False, False],\n",
              "       [ True, False],\n",
              "       [False, False],\n",
              "       [ True, False],\n",
              "       [ True, False],\n",
              "       [False, False],\n",
              "       [False,  True],\n",
              "       [ True, False],\n",
              "       [False,  True],\n",
              "       [ True, False],\n",
              "       [ True, False],\n",
              "       [ True, False],\n",
              "       [False,  True],\n",
              "       [False,  True],\n",
              "       [ True, False],\n",
              "       [ True, False],\n",
              "       [ True, False],\n",
              "       [ True, False],\n",
              "       [False, False],\n",
              "       [False,  True],\n",
              "       [ True, False],\n",
              "       [False, False],\n",
              "       [ True, False],\n",
              "       [ True, False],\n",
              "       [ True, False],\n",
              "       [False,  True],\n",
              "       [ True, False],\n",
              "       [False, False],\n",
              "       [False, False],\n",
              "       [False,  True],\n",
              "       [ True, False],\n",
              "       [ True, False],\n",
              "       [False, False],\n",
              "       [False, False],\n",
              "       [ True, False],\n",
              "       [ True, False],\n",
              "       [False, False],\n",
              "       [False, False],\n",
              "       [False, False],\n",
              "       [ True, False],\n",
              "       [ True, False],\n",
              "       [False,  True],\n",
              "       [ True, False],\n",
              "       [ True, False],\n",
              "       [ True, False],\n",
              "       [ True, False],\n",
              "       [False, False],\n",
              "       [ True, False],\n",
              "       [ True, False],\n",
              "       [False, False],\n",
              "       [ True, False],\n",
              "       [False,  True],\n",
              "       [False,  True],\n",
              "       [ True, False],\n",
              "       [False, False],\n",
              "       [False,  True],\n",
              "       [ True, False],\n",
              "       [ True, False],\n",
              "       [False, False],\n",
              "       [False, False],\n",
              "       [ True, False],\n",
              "       [ True, False],\n",
              "       [ True, False],\n",
              "       [False,  True],\n",
              "       [False, False],\n",
              "       [ True, False],\n",
              "       [ True, False],\n",
              "       [ True, False],\n",
              "       [False,  True],\n",
              "       [ True, False],\n",
              "       [False,  True],\n",
              "       [ True, False],\n",
              "       [ True, False],\n",
              "       [ True, False],\n",
              "       [False,  True],\n",
              "       [False, False],\n",
              "       [False, False],\n",
              "       [ True, False],\n",
              "       [False,  True],\n",
              "       [False,  True],\n",
              "       [False, False],\n",
              "       [False, False],\n",
              "       [ True, False],\n",
              "       [False,  True],\n",
              "       [ True, False],\n",
              "       [False,  True],\n",
              "       [ True, False],\n",
              "       [ True, False],\n",
              "       [ True, False],\n",
              "       [False, False],\n",
              "       [ True, False],\n",
              "       [ True, False],\n",
              "       [ True, False],\n",
              "       [False,  True],\n",
              "       [False, False],\n",
              "       [ True, False],\n",
              "       [ True, False],\n",
              "       [False, False],\n",
              "       [ True, False],\n",
              "       [False, False],\n",
              "       [ True, False],\n",
              "       [ True, False],\n",
              "       [False, False],\n",
              "       [ True, False],\n",
              "       [False, False],\n",
              "       [ True, False],\n",
              "       [False,  True],\n",
              "       [ True, False],\n",
              "       [False, False],\n",
              "       [False, False],\n",
              "       [ True, False],\n",
              "       [False, False],\n",
              "       [ True, False],\n",
              "       [False, False],\n",
              "       [False, False],\n",
              "       [False, False],\n",
              "       [False, False],\n",
              "       [ True, False],\n",
              "       [ True, False],\n",
              "       [ True, False],\n",
              "       [False,  True],\n",
              "       [False,  True],\n",
              "       [False, False],\n",
              "       [False,  True],\n",
              "       [False, False],\n",
              "       [ True, False],\n",
              "       [ True, False],\n",
              "       [False, False],\n",
              "       [False, False],\n",
              "       [ True, False]])"
            ]
          },
          "metadata": {
            "tags": []
          },
          "execution_count": 42
        }
      ]
    },
    {
      "cell_type": "code",
      "metadata": {
        "colab": {
          "base_uri": "https://localhost:8080/"
        },
        "id": "9xeFjloWvH5I",
        "outputId": "59760d4e-f8ff-4455-fc4f-c44f5fea37c9"
      },
      "source": [
        "print(\"accuracy: \", accuracy_score(y_test, y_pred3))\r\n",
        "print(\"precision: \", precision_score(y_test, y_pred3))\r\n",
        "print(\"recall: \", recall_score(y_test, y_pred3))\r\n",
        "print(\"f1 score: \", f1_score(y_test, y_pred3))"
      ],
      "execution_count": 36,
      "outputs": [
        {
          "output_type": "stream",
          "text": [
            "accuracy:  0.7837837837837838\n",
            "precision:  0.925\n",
            "recall:  0.45121951219512196\n",
            "f1 score:  0.6065573770491803\n"
          ],
          "name": "stdout"
        }
      ]
    },
    {
      "cell_type": "code",
      "metadata": {
        "colab": {
          "base_uri": "https://localhost:8080/",
          "height": 283
        },
        "id": "po_RSp3Lv86x",
        "outputId": "52031f5d-93ad-4a2c-c8ef-c1227c751692"
      },
      "source": [
        "fpr, tpr, thresholds = roc_curve(y_test, y_pred_proba[:,1])\r\n",
        "\r\n",
        "plt.plot(fpr,tpr)\r\n",
        "plt.plot([0,1],[0,1], linestyle=\"--\")\r\n",
        "plt.xlim([0.0, 1.0])\r\n",
        "plt.ylim([0.0, 1.0])\r\n",
        "plt.xlabel(\"1 - specificity\")\r\n",
        "plt.ylabel(\"sensitivity\")\r\n",
        "plt.show()"
      ],
      "execution_count": 43,
      "outputs": [
        {
          "output_type": "display_data",
          "data": {
            "image/png": "[encoded data removed]",
            "text/plain": [
              "<Figure size 432x288 with 1 Axes>"
            ]
          },
          "metadata": {
            "tags": [],
            "needs_background": "light"
          }
        }
      ]
    },
    {
      "cell_type": "code",
      "metadata": {
        "colab": {
          "base_uri": "https://localhost:8080/"
        },
        "id": "jsGWfCxN5GQD",
        "outputId": "a9b7c0c5-4dd0-4caa-b961-89fe5f7f519e"
      },
      "source": [
        "(roc_auc_score(y_test, y_pred_proba[:,1]))"
      ],
      "execution_count": 45,
      "outputs": [
        {
          "output_type": "execute_result",
          "data": {
            "text/plain": [
              "0.8576655052264808"
            ]
          },
          "metadata": {
            "tags": []
          },
          "execution_count": 45
        }
      ]
    },
    {
      "cell_type": "code",
      "metadata": {
        "id": "k_7UFeNm8tHV"
      },
      "source": [
        ""
      ],
      "execution_count": null,
      "outputs": []
    }
  ]
}